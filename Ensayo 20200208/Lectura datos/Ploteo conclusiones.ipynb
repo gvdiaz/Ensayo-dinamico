{
 "cells": [
  {
   "cell_type": "markdown",
   "metadata": {},
   "source": [
    "## Documento para creación de ploteos para documento de conclusiones de ensayos dinámicos\n",
    "* Autor: Gustavo Vladimir Diaz\n",
    "* Fecha inicio: 5/3/2020\n",
    "* Fecha última modificación: 5/3/2020"
   ]
  },
  {
   "cell_type": "markdown",
   "metadata": {},
   "source": [
    "### Objetivo\n",
    "Crear ploteos necesarios para entendimiento de conclusiones"
   ]
  },
  {
   "cell_type": "markdown",
   "metadata": {},
   "source": [
    "#### Ploteos necesarios\n",
    "* Conclusión \"Adquisición con sensor óptico\": Comparación entre ruido de ploteo de datos recogidos en sensor óptico y comparado con datos obtenidos en sensor inductivo\n",
    "* Conclusión \"Adquisición con osciloscopio\": Mostrar que el tiempo de adquisición mientras mas largo es mayor resolución en frecuencia se va a tener, comparar uno que tenga adquisición de 6 segundos con alguno de 0.6 segundos\n",
    "* Conclusión \"Frecuencia fundamental\": Mostrar algún ensayos cuya fundamental se observe plenamente\n",
    "* Conclusión \"Dispersión de fundamentales\": Mostrar como por ejemplo en el ensayo 20 se observa como la fundamental tiene un corrimiento en frecuencia y no la energía concentrada en una frecuencia.\n",
    "* Conclusión \"Repetibilidad de ensayos\": Mostrar como en el documento \"Resultado 6\" los distintos espectros como varían para un mismo rotor"
   ]
  },
  {
   "cell_type": "code",
   "execution_count": null,
   "metadata": {},
   "outputs": [],
   "source": [
    "# Conclusión \"Adquisición con sensor óptico\":\n"
   ]
  }
 ],
 "metadata": {
  "kernelspec": {
   "display_name": "Python 3",
   "language": "python",
   "name": "python3"
  },
  "language_info": {
   "codemirror_mode": {
    "name": "ipython",
    "version": 3
   },
   "file_extension": ".py",
   "mimetype": "text/x-python",
   "name": "python",
   "nbconvert_exporter": "python",
   "pygments_lexer": "ipython3",
   "version": "3.7.4"
  }
 },
 "nbformat": 4,
 "nbformat_minor": 2
}
